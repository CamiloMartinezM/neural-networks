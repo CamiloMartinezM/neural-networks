version https://git-lfs.github.com/spec/v1
oid sha256:b1caf883bdfab2cde3c3f94708dac36d5f7388884d50f7cdbca237fceaa7519e
size 64448
