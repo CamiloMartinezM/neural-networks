version https://git-lfs.github.com/spec/v1
oid sha256:6be5cf2a9de63978fe4ca2e34e4b19ba4ef125a8477e4b705bfcd7caddbbb3d0
size 77365
