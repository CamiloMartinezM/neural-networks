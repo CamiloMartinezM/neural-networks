version https://git-lfs.github.com/spec/v1
oid sha256:6d93940e4dc4f0907fc25f5b8d93b104f95ee0f702c194e43ed04fb8f633f807
size 100615
