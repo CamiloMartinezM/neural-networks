version https://git-lfs.github.com/spec/v1
oid sha256:0f3c3d17b36e4bb604f202f12bb2f1e5a47a6b5d8799d0bffa2b6c2f745bd844
size 5073010
